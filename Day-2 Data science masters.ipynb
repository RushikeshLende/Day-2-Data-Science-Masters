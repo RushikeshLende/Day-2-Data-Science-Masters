{
 "cells": [
  {
   "cell_type": "code",
   "execution_count": 1,
   "id": "168bca6a-014b-4bef-8920-7e67e338704e",
   "metadata": {},
   "outputs": [],
   "source": [
    "a=10"
   ]
  },
  {
   "cell_type": "code",
   "execution_count": 2,
   "id": "d1396ec8-da57-4f90-a900-4ba6d406ad05",
   "metadata": {},
   "outputs": [
    {
     "data": {
      "text/plain": [
       "10"
      ]
     },
     "execution_count": 2,
     "metadata": {},
     "output_type": "execute_result"
    }
   ],
   "source": [
    "a"
   ]
  },
  {
   "cell_type": "code",
   "execution_count": 3,
   "id": "ffc66832-08c0-4bf7-804a-e217f54ce361",
   "metadata": {},
   "outputs": [],
   "source": [
    "a='c'"
   ]
  },
  {
   "cell_type": "code",
   "execution_count": 4,
   "id": "ec6132b1-f205-4536-b1e9-5462f2853b5c",
   "metadata": {},
   "outputs": [
    {
     "data": {
      "text/plain": [
       "'c'"
      ]
     },
     "execution_count": 4,
     "metadata": {},
     "output_type": "execute_result"
    }
   ],
   "source": [
    "a"
   ]
  },
  {
   "cell_type": "code",
   "execution_count": 5,
   "id": "2e4b1154-44ca-4dd6-aa07-7b4d2baa65c4",
   "metadata": {},
   "outputs": [
    {
     "data": {
      "text/plain": [
       "str"
      ]
     },
     "execution_count": 5,
     "metadata": {},
     "output_type": "execute_result"
    }
   ],
   "source": [
    "type(a)"
   ]
  },
  {
   "cell_type": "code",
   "execution_count": 6,
   "id": "74d1d146-f83e-48a9-a640-8af43e317afb",
   "metadata": {},
   "outputs": [
    {
     "data": {
      "text/plain": [
       "123"
      ]
     },
     "execution_count": 6,
     "metadata": {},
     "output_type": "execute_result"
    }
   ],
   "source": [
    "int('123')"
   ]
  },
  {
   "cell_type": "code",
   "execution_count": 9,
   "id": "a55b986c-11b0-4085-b942-9ebf61da370d",
   "metadata": {},
   "outputs": [
    {
     "name": "stdout",
     "output_type": "stream",
     "text": [
      "My age is: 25\n"
     ]
    }
   ],
   "source": [
    "age=25\n",
    "print(\"My age is:\",age)"
   ]
  },
  {
   "cell_type": "code",
   "execution_count": 10,
   "id": "4fc7ff56-d313-4947-aa75-cc9b1a2da874",
   "metadata": {},
   "outputs": [
    {
     "name": "stdout",
     "output_type": "stream",
     "text": [
      "My age is:25\n"
     ]
    }
   ],
   "source": [
    "## f string\n",
    "print(f\"My age is:{age}\")"
   ]
  },
  {
   "cell_type": "code",
   "execution_count": 12,
   "id": "68605214-a7be-4bab-8a7f-824e03c0cfb2",
   "metadata": {},
   "outputs": [
    {
     "name": "stdout",
     "output_type": "stream",
     "text": [
      "My name is Rishi and age is 25\n"
     ]
    }
   ],
   "source": [
    "## format()\n",
    "name=\"Rishi\"\n",
    "age=25\n",
    "print(\"My name is {} and age is {}\".format(name,age))"
   ]
  },
  {
   "cell_type": "code",
   "execution_count": 14,
   "id": "10bb469b-82df-4e7f-9b18-58e581d69a4e",
   "metadata": {},
   "outputs": [
    {
     "name": "stdout",
     "output_type": "stream",
     "text": [
      "My name is Rishi and age is 25\n"
     ]
    }
   ],
   "source": [
    "## placeholder\n",
    "print(\"My name is {firstname} and age is {firstage}\".format(firstname=name,firstage=age))"
   ]
  },
  {
   "cell_type": "code",
   "execution_count": 4,
   "id": "c6f255ae-1f1d-4c4b-ae7b-5aab3ab42a5e",
   "metadata": {},
   "outputs": [
    {
     "name": "stdout",
     "output_type": "stream",
     "text": [
      "My name is 25 and i have completed: my degree of BCA with the name of Rushikesh Lende\n"
     ]
    }
   ],
   "source": [
    "name=\"Rushikesh Lende\"\n",
    "age=25\n",
    "degree=\"BCA\"\n",
    "\n",
    "\"My name is 25 and i have completed: my degree of BCA with the name of Rushikesh Lende\"\n",
    "\n",
    "print(f\"My name is {age} and i have completed: my degree of {degree} with the name of {name}\")"
   ]
  },
  {
   "cell_type": "code",
   "execution_count": 5,
   "id": "a2904eb6-2e99-4f3f-abc7-09a33cfd3dbb",
   "metadata": {},
   "outputs": [
    {
     "name": "stdout",
     "output_type": "stream",
     "text": [
      "My name is 25 and i have completed: my degree of BCA with the name of Rushikesh Lende\n"
     ]
    }
   ],
   "source": [
    "print(\"My name is {} and i have completed: my degree of {} with the name of {}\".format(age,degree,name))"
   ]
  },
  {
   "cell_type": "markdown",
   "id": "5e50f2b1-59f3-426e-af68-b69557dba655",
   "metadata": {},
   "source": [
    "## Control flow"
   ]
  },
  {
   "cell_type": "markdown",
   "id": "7aec0fe4-cb86-4e00-9a65-925d37345e54",
   "metadata": {},
   "source": [
    "## 4.1 Decision Making Statement\n",
    "   * It is kind of making decision during occurred situation of program execution and action can be taken according to specified conditions.\n",
    "   * Structure of decision making evaluate several expressions that provide True or False as a result.\n",
    "   * It is up to you to decide which type of action want to take and execute the statements based upon True and False.\n",
    "   \n",
    "**These are several topics of decision making which going to be discussed below:**\n",
    "   1. **if**\n",
    "   2. **if else** \n",
    "   3. **if elif else**\n",
    "   4. **Nested if**\n",
    "   5. **Single Statement Suites**"
   ]
  },
  {
   "cell_type": "code",
   "execution_count": 11,
   "id": "66b07419-0a74-4b99-aa29-c8bfefe81409",
   "metadata": {},
   "outputs": [
    {
     "name": "stdout",
     "output_type": "stream",
     "text": [
      "You are eligible for vote\n"
     ]
    }
   ],
   "source": [
    "## if statements\n",
    "age=18\n",
    "if age>=18:\n",
    "    print(\"You are eligible for vote\")"
   ]
  },
  {
   "cell_type": "code",
   "execution_count": 1,
   "id": "1d1bbaae-3714-4d5e-8874-a89b65e5eae7",
   "metadata": {},
   "outputs": [
    {
     "name": "stdin",
     "output_type": "stream",
     "text": [
      "Enter the age 25\n"
     ]
    },
    {
     "name": "stdout",
     "output_type": "stream",
     "text": [
      "You are a young blood\n"
     ]
    }
   ],
   "source": [
    "##Task\n",
    "## Take a input of age \n",
    "## Check whether age >=18 and age <=32\n",
    "## display a message you are young blood\n",
    "\n",
    "age=int(input(\"Enter the age\"))\n",
    "if age >=18 and age <=32:\n",
    "    print(\"You are a young blood\")"
   ]
  },
  {
   "cell_type": "code",
   "execution_count": 4,
   "id": "3ded33a1-3840-45b8-8e5f-0a20ecae8398",
   "metadata": {},
   "outputs": [
    {
     "name": "stdin",
     "output_type": "stream",
     "text": [
      "Enter the age 55\n"
     ]
    },
    {
     "name": "stdout",
     "output_type": "stream",
     "text": [
      "Thank you we will let you know\n"
     ]
    }
   ],
   "source": [
    "## if else statements\n",
    "age=int(input(\"Enter the age\"))\n",
    "if age >=18 and age <=32:\n",
    "    print(\"You are a young blood\")\n",
    "else:\n",
    "    print(\"Thank you we will let you know\")"
   ]
  },
  {
   "cell_type": "code",
   "execution_count": 9,
   "id": "96b694f6-5208-4c4f-95ea-8ae0d4332256",
   "metadata": {},
   "outputs": [
    {
     "name": "stdin",
     "output_type": "stream",
     "text": [
      "Enter the price 5000\n"
     ]
    },
    {
     "name": "stdout",
     "output_type": "stream",
     "text": [
      "The price of the product is 4000.0\n"
     ]
    }
   ],
   "source": [
    "## mall - input the product price \n",
    "## product >1000 rs 20% off \n",
    "## print the product price after removing the discount\n",
    "## product <=1000 rs 30% off\n",
    "## print the product price after removing the discount\n",
    "\n",
    "product_price=int(input(\"Enter the price\"))\n",
    "if product_price >1000:\n",
    "    print(\"The price of the product is {}\".format(product_price*0.8))\n",
    "else:\n",
    "    print(\"The price of the product is {}\".format(product_price*0.7))"
   ]
  },
  {
   "cell_type": "code",
   "execution_count": 10,
   "id": "090c290f-b99e-47b6-9590-9249066118e9",
   "metadata": {},
   "outputs": [
    {
     "data": {
      "text/plain": [
       "1000"
      ]
     },
     "execution_count": 10,
     "metadata": {},
     "output_type": "execute_result"
    }
   ],
   "source": [
    "int((20/100)*5000)"
   ]
  },
  {
   "cell_type": "code",
   "execution_count": 17,
   "id": "9ca09be2-9433-4842-8df8-1fd0c6a7c25b",
   "metadata": {},
   "outputs": [
    {
     "name": "stdin",
     "output_type": "stream",
     "text": [
      "Enter the price 1500\n"
     ]
    },
    {
     "name": "stdout",
     "output_type": "stream",
     "text": [
      "The price of the product is 900.0\n"
     ]
    }
   ],
   "source": [
    "## mall - input the product price \n",
    "## product >3000 rs 20% off \n",
    "## print the product price after removing the discount\n",
    "## product >=2000 rs and <=3000 30% off\n",
    "## print the product price after removing the discount\n",
    "## product <=1000 rs and <=2000 40% off\n",
    "## print the product price after removing the discount\n",
    "\n",
    "product_price=int(input(\"Enter the price\"))\n",
    "if product_price >3000:\n",
    "    print(\"The price of the product is {}\".format(product_price*0.8))\n",
    "elif product_price >=2000 and product_price<=3000:\n",
    "    print(\"The price of the product is {}\".format(product_price*0.7))\n",
    "else:\n",
    "    print(\"The price of the product is {}\".format(product_price*0.6))"
   ]
  },
  {
   "cell_type": "code",
   "execution_count": 19,
   "id": "bc3040ad-a17e-487e-b223-b0ee246e0e52",
   "metadata": {},
   "outputs": [
    {
     "data": {
      "text/plain": [
       "600.0"
      ]
     },
     "execution_count": 19,
     "metadata": {},
     "output_type": "execute_result"
    }
   ],
   "source": [
    "(40/100)*1500"
   ]
  },
  {
   "cell_type": "code",
   "execution_count": 20,
   "id": "b0b7d53a-57d0-4c9f-b61d-4b7cd1fbed59",
   "metadata": {},
   "outputs": [
    {
     "name": "stdin",
     "output_type": "stream",
     "text": [
      "Enter the price 2000\n"
     ]
    },
    {
     "name": "stdout",
     "output_type": "stream",
     "text": [
      "The price of the product is 1400.0\n"
     ]
    }
   ],
   "source": [
    "product_price=int(input(\"Enter the price\"))\n",
    "if product_price >3000:\n",
    "    print(f\"The price of the product is {product_price*0.8}\")\n",
    "elif product_price >=2000 and product_price<=3000:\n",
    "    print(f\"The price of the product is {product_price*0.7}\")\n",
    "else:\n",
    "    print(f\"The price of the product is {product_price*0.6}\")"
   ]
  },
  {
   "cell_type": "code",
   "execution_count": 11,
   "id": "150a5069-2f0d-4d77-8807-c2275d69ee1f",
   "metadata": {},
   "outputs": [
    {
     "name": "stdin",
     "output_type": "stream",
     "text": [
      "Enter the price 4000\n"
     ]
    },
    {
     "name": "stdout",
     "output_type": "stream",
     "text": [
      "You get a trip to goa\n",
      "The price of the product is 3200.0\n"
     ]
    }
   ],
   "source": [
    "## mall - input the product price \n",
    "## product >3000 rs 20% off \n",
    "## price is ==4000 you get atrip o Goa\n",
    "## print the product price after removing the discount\n",
    "## product >=2000 rs and <=3000 30% off\n",
    "## print the product price after removing the discount\n",
    "## price ==2999 u will get additional gift\n",
    "## product >=100 rs and <=2000 40% off\n",
    "## print the product price after removing the discount\n",
    "\n",
    "product_price=int(input(\"Enter the price\"))\n",
    "if product_price >3000:\n",
    "    if product_price ==4000:\n",
    "        print(\"You get a trip to goa\")\n",
    "    print(\"The price of the product is {}\".format(product_price*0.8))\n",
    "elif product_price >=2000 and product_price<=3000:\n",
    "    if product_price ==2999:\n",
    "        print(\"congratulations you get an additional gift\")\n",
    "    print(\"The price of the product is {}\".format(product_price*0.7))\n",
    "elif product_price >=100 and product_price <2000:\n",
    "    print(\"The price of the product is {}\".format(product_price*0.6))\n",
    "else:\n",
    "    print(\"Lets drink tea\")"
   ]
  },
  {
   "cell_type": "code",
   "execution_count": 6,
   "id": "4940b8b2-e67f-46ba-b89b-c058b9a32599",
   "metadata": {},
   "outputs": [
    {
     "data": {
      "text/plain": [
       "True"
      ]
     },
     "execution_count": 6,
     "metadata": {},
     "output_type": "execute_result"
    }
   ],
   "source": [
    "#comparison operater\n",
    "True==True"
   ]
  },
  {
   "cell_type": "code",
   "execution_count": 14,
   "id": "fb369875-70de-484e-b4c7-f9f526e4fb77",
   "metadata": {},
   "outputs": [
    {
     "name": "stdin",
     "output_type": "stream",
     "text": [
      "Enter the number 1000\n"
     ]
    },
    {
     "name": "stdout",
     "output_type": "stream",
     "text": [
      "Go Home\n"
     ]
    }
   ],
   "source": [
    "## Single statement Suites\n",
    "val=int(input(\"Enter the number\"))\n",
    "if(val<=999):print(\"Value is less than equal to 999\")\n",
    "else:\n",
    "    print(\"Go Home\")"
   ]
  },
  {
   "cell_type": "code",
   "execution_count": null,
   "id": "6a674b52-f1a8-42f1-930b-d36a97c8a932",
   "metadata": {},
   "outputs": [],
   "source": [
    "## Loops statements\n",
    "1. while loop\n",
    "2. for loop\n",
    "3. nested loop\n",
    "4. Loop control(break,continue,pass)"
   ]
  },
  {
   "cell_type": "code",
   "execution_count": 18,
   "id": "1abd4ac4-5a0c-487f-b23f-7a9d9746dfc9",
   "metadata": {},
   "outputs": [
    {
     "name": "stdout",
     "output_type": "stream",
     "text": [
      "25\n",
      "26\n",
      "27\n",
      "28\n",
      "29\n",
      "30\n",
      "31\n",
      "32\n",
      "33\n",
      "34\n",
      "35\n",
      "36\n",
      "37\n",
      "38\n",
      "39\n",
      "40\n",
      "41\n",
      "42\n",
      "43\n",
      "44\n",
      "45\n",
      "46\n",
      "47\n",
      "48\n",
      "49\n",
      "50\n",
      "51\n",
      "52\n",
      "53\n",
      "54\n",
      "55\n",
      "56\n",
      "57\n",
      "58\n",
      "59\n",
      "60\n",
      "Its time for retirement\n"
     ]
    }
   ],
   "source": [
    "## while loop, while-else\n",
    "joining_age=25\n",
    "while joining_age<=60:\n",
    "    print(joining_age)\n",
    "    joining_age=joining_age+1\n",
    "else:\n",
    "    print(\"Its time for retirement\")"
   ]
  },
  {
   "cell_type": "code",
   "execution_count": 22,
   "id": "453665a6-5562-48f2-a00a-b837403a797f",
   "metadata": {},
   "outputs": [
    {
     "name": "stdout",
     "output_type": "stream",
     "text": [
      "1000\n",
      "900\n",
      "800\n",
      "700\n",
      "600\n",
      "500\n",
      "400\n",
      "300\n",
      "200\n",
      "100\n",
      "put more money bank people\n"
     ]
    }
   ],
   "source": [
    "### Atm machine with 1000 rs\n",
    "\n",
    "total_amount=1000\n",
    "while total_amount!=0:\n",
    "    print(total_amount)\n",
    "    total_amount=total_amount-100\n",
    "else:\n",
    "    print(\"put more money bank people\")"
   ]
  },
  {
   "cell_type": "markdown",
   "id": "963e691d-8464-4841-a532-b8874d339ea2",
   "metadata": {},
   "source": [
    "## for loop"
   ]
  },
  {
   "cell_type": "code",
   "execution_count": 29,
   "id": "c3a6870a-c2ae-4f48-89d7-c0d5e4a75249",
   "metadata": {},
   "outputs": [],
   "source": [
    "lst=[\"Rishi\",1,2,3,\"apple\",\"banana\"]"
   ]
  },
  {
   "cell_type": "code",
   "execution_count": 30,
   "id": "98d1efb2-2719-4469-8162-64b30dccf2e9",
   "metadata": {},
   "outputs": [
    {
     "data": {
      "text/plain": [
       "list"
      ]
     },
     "execution_count": 30,
     "metadata": {},
     "output_type": "execute_result"
    }
   ],
   "source": [
    "type(lst)"
   ]
  },
  {
   "cell_type": "code",
   "execution_count": 31,
   "id": "b9056885-35a6-41da-893b-df64121c417d",
   "metadata": {},
   "outputs": [
    {
     "data": {
      "text/plain": [
       "'apple'"
      ]
     },
     "execution_count": 31,
     "metadata": {},
     "output_type": "execute_result"
    }
   ],
   "source": [
    "lst[4]"
   ]
  },
  {
   "cell_type": "code",
   "execution_count": 32,
   "id": "d06f9c97-3a85-4c4e-bfb5-6d49009f286f",
   "metadata": {},
   "outputs": [
    {
     "name": "stdout",
     "output_type": "stream",
     "text": [
      "Rishi\n",
      "1\n",
      "2\n",
      "3\n",
      "apple\n",
      "banana\n"
     ]
    }
   ],
   "source": [
    "for x in lst:\n",
    "    print(x)"
   ]
  },
  {
   "cell_type": "code",
   "execution_count": 37,
   "id": "91052117-1835-4e39-96c6-5d8e6fa4b666",
   "metadata": {},
   "outputs": [
    {
     "name": "stdout",
     "output_type": "stream",
     "text": [
      "Mango\n",
      "cherry\n",
      "apple\n",
      "banana\n"
     ]
    }
   ],
   "source": [
    "fruit_list=[\"Mango\",\"cherry\",\"apple\",\"banana\"]\n",
    "for a in fruit_list:\n",
    "    print(a)"
   ]
  },
  {
   "cell_type": "code",
   "execution_count": 38,
   "id": "1b13882c-ee31-4638-957c-e348351de2ab",
   "metadata": {},
   "outputs": [
    {
     "name": "stdout",
     "output_type": "stream",
     "text": [
      "Mango\n",
      "cherry\n",
      "The fruit is cherry\n",
      "apple\n",
      "banana\n"
     ]
    }
   ],
   "source": [
    "fruit_list=[\"Mango\",\"cherry\",\"apple\",\"banana\"]\n",
    "for a in fruit_list:\n",
    "    print(a)\n",
    "    if a==\"cherry\":\n",
    "        print(\"The fruit is cherry\")"
   ]
  },
  {
   "cell_type": "code",
   "execution_count": 39,
   "id": "8b900709-e565-4b1f-9f81-73ae2320b920",
   "metadata": {},
   "outputs": [
    {
     "name": "stdout",
     "output_type": "stream",
     "text": [
      "m\n",
      "a\n",
      "n\n",
      "g\n",
      "o\n"
     ]
    }
   ],
   "source": [
    "fruit=\"mango\"\n",
    "for x in fruit:\n",
    "    print(x)"
   ]
  },
  {
   "cell_type": "code",
   "execution_count": 40,
   "id": "afa67523-c2f8-49f1-bf7a-aca71a87c9a1",
   "metadata": {},
   "outputs": [
    {
     "data": {
      "text/plain": [
       "'n'"
      ]
     },
     "execution_count": 40,
     "metadata": {},
     "output_type": "execute_result"
    }
   ],
   "source": [
    "fruit[2]"
   ]
  },
  {
   "cell_type": "code",
   "execution_count": 51,
   "id": "b472b7be-08fe-47ff-afca-4ab0a61e43d4",
   "metadata": {},
   "outputs": [
    {
     "name": "stdout",
     "output_type": "stream",
     "text": [
      "1\n",
      "2\n",
      "3\n",
      "4\n",
      "5\n"
     ]
    }
   ],
   "source": [
    "### Range\n",
    "\n",
    "for i in range(1,6):\n",
    "    print(i)"
   ]
  },
  {
   "cell_type": "code",
   "execution_count": 53,
   "id": "be43f59f-b2d2-411d-881c-25dbe58cf05c",
   "metadata": {},
   "outputs": [
    {
     "name": "stdout",
     "output_type": "stream",
     "text": [
      "1\n",
      "3\n",
      "5\n"
     ]
    }
   ],
   "source": [
    "for i in range(1,6,2):\n",
    "    print(i)"
   ]
  },
  {
   "cell_type": "code",
   "execution_count": 55,
   "id": "4354b552-de42-4505-bcf0-892960a691b8",
   "metadata": {},
   "outputs": [
    {
     "name": "stdout",
     "output_type": "stream",
     "text": [
      "*\n",
      "**\n",
      "***\n",
      "****\n",
      "*****\n",
      "******\n",
      "*******\n"
     ]
    }
   ],
   "source": [
    "## Nested loop\n",
    "\n",
    "n=7\n",
    "for i in range(0,n):\n",
    "    for j in range(0,i+1):\n",
    "        print(\"*\",end=\"\")\n",
    "    print(\"\\r\")"
   ]
  },
  {
   "cell_type": "code",
   "execution_count": null,
   "id": "8a42990c-76a2-4bf9-a9fb-05a14aaea59b",
   "metadata": {},
   "outputs": [],
   "source": [
    "## Loop controls\n",
    "## Break,Pass and continue\n",
    "fruit_list=[\"Mango\",\"cherry\",\"apple\",\"banana\"]"
   ]
  },
  {
   "cell_type": "code",
   "execution_count": 68,
   "id": "10464a87-dd85-4e4b-b37b-38b360b73000",
   "metadata": {},
   "outputs": [
    {
     "name": "stdout",
     "output_type": "stream",
     "text": [
      "Mango\n",
      "cherry\n",
      "The fruit is apple\n"
     ]
    }
   ],
   "source": [
    "##break\n",
    "for i in fruit_list:\n",
    "    if i==\"apple\":\n",
    "        print(\"The fruit is apple\")\n",
    "        break\n",
    "    print(i)"
   ]
  },
  {
   "cell_type": "code",
   "execution_count": 69,
   "id": "686f9676-8a81-426f-84d8-da7e1b2936f0",
   "metadata": {},
   "outputs": [
    {
     "name": "stdout",
     "output_type": "stream",
     "text": [
      "Mango\n",
      "cherry\n",
      "The fruit is apple\n",
      "apple\n",
      "banana\n"
     ]
    }
   ],
   "source": [
    "## pass\n",
    "for i in fruit_list:\n",
    "    if i==\"apple\":\n",
    "        print(\"The fruit is apple\")\n",
    "        pass\n",
    "    print(i)"
   ]
  },
  {
   "cell_type": "code",
   "execution_count": 70,
   "id": "1ac6a4a3-0f51-4d63-b7a7-29d1520d53de",
   "metadata": {},
   "outputs": [
    {
     "name": "stdout",
     "output_type": "stream",
     "text": [
      "Mango\n",
      "cherry\n",
      "The fruit is apple\n",
      "banana\n"
     ]
    }
   ],
   "source": [
    "## continue\n",
    "for i in fruit_list:\n",
    "    if i==\"apple\":\n",
    "        print(\"The fruit is apple\")\n",
    "        continue\n",
    "    print(i)"
   ]
  },
  {
   "cell_type": "code",
   "execution_count": null,
   "id": "84805b6c-fad1-4350-bf02-66f20ab08006",
   "metadata": {},
   "outputs": [],
   "source": []
  }
 ],
 "metadata": {
  "kernelspec": {
   "display_name": "Python 3 (ipykernel)",
   "language": "python",
   "name": "python3"
  },
  "language_info": {
   "codemirror_mode": {
    "name": "ipython",
    "version": 3
   },
   "file_extension": ".py",
   "mimetype": "text/x-python",
   "name": "python",
   "nbconvert_exporter": "python",
   "pygments_lexer": "ipython3",
   "version": "3.10.8"
  }
 },
 "nbformat": 4,
 "nbformat_minor": 5
}
